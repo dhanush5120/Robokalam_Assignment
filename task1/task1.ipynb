{
 "cells": [
  {
   "cell_type": "code",
   "execution_count": null,
   "metadata": {},
   "outputs": [],
   "source": [
    "import nltk\n",
    "import numpy as np\n",
    "import random\n",
    "import string\n",
    "from nltk.stem import WordNetLemmatizer\n",
    "from sklearn.feature_extraction.text import TfidfVectorizer\n",
    "from sklearn.metrics.pairwise import cosine_similarity\n",
    "import re\n",
    "import warnings\n",
    "warnings.filterwarnings('ignore')\n",
    "\n",
    "#nltk.download('popular')\n",
    "#nltk.download('punkt')\n",
    "#nltk.download('wordnet')"
   ]
  },
  {
   "cell_type": "code",
   "execution_count": null,
   "metadata": {},
   "outputs": [],
   "source": [
    "# Reading in the data\n",
    "with open('input.txt','r', encoding='utf8', errors ='ignore') as fin:\n",
    "    raw = fin.read().lower()\n",
    "    \n",
    "sent_tokens = nltk.sent_tokenize(raw) # converts to list of sentences\n",
    "word_tokens = nltk.word_tokenize(raw) # converts to list of words"
   ]
  },
  {
   "cell_type": "code",
   "execution_count": null,
   "metadata": {},
   "outputs": [],
   "source": [
    "# Pre-processing the raw text\n",
    "lemmer = WordNetLemmatizer()\n",
    "def LemTokens(tokens):\n",
    "    return [lemmer.lemmatize(token) for token in tokens]\n",
    "remove_punct_dict = dict((ord(punct), None) for punct in string.punctuation)\n",
    "def LemNormalize(text):\n",
    "    return LemTokens(nltk.word_tokenize(text.lower().translate(remove_punct_dict)))\n"
   ]
  },
  {
   "cell_type": "code",
   "execution_count": null,
   "metadata": {},
   "outputs": [],
   "source": [
    "# Keyword Matching\n",
    "GREETING_INPUTS = (\"hello\", \"hi\", \"greetings\", \"sup\", \"what's up\",\"hey\",)\n",
    "GREETING_RESPONSES = [\"hi\", \"hey\", \"*nods*\", \"hi there\", \"hello\", \"I am glad! You are talking to me\"]\n",
    "\n",
    "def greeting(sentence):\n",
    "    \"\"\"If user's input is a greeting, returns a greeting response\"\"\"\n",
    "    for word in sentence.split():\n",
    "        if word.lower() in GREETING_INPUTS:\n",
    "            return random.choice(GREETING_RESPONSES)"
   ]
  },
  {
   "cell_type": "code",
   "execution_count": null,
   "metadata": {},
   "outputs": [],
   "source": [
    "# Generating response\n",
    "def response(user_response):\n",
    "    robo_response=''\n",
    "    sent_tokens.append(user_response)\n",
    "\n",
    "    # Tfidf vectorizer to convert a collection of raw documemts to a matrix of TF-IDF features\n",
    "    TfidfVec = TfidfVectorizer(tokenizer=LemNormalize, stop_words='english')\n",
    "    tfidf = TfidfVec.fit_transform(sent_tokens)\n",
    "\n",
    "    # Cosine similarity is used to find the similarity betwenn words\n",
    "    # entered by user and the words in the corpus\n",
    "    vals = cosine_similarity(tfidf[-1], tfidf)\n",
    "    idx=vals.argsort()[0][-2]\n",
    "    flat = vals.flatten()\n",
    "    flat.sort()\n",
    "    req_tfidf = flat[-2]\n",
    "    if(req_tfidf==0):\n",
    "        robo_response=robo_response+\"I am sorry! I don't understand you\"\n",
    "        return robo_response\n",
    "    else:\n",
    "        robo_response = robo_response+sent_tokens[idx]\n",
    "        return robo_response"
   ]
  },
  {
   "cell_type": "code",
   "execution_count": 147,
   "metadata": {},
   "outputs": [
    {
     "name": "stdout",
     "output_type": "stream",
     "text": [
      "BOT: My name is BOT. I will answer your queries about COVID-19. \n",
      "If you want to exit, type Bye!\n",
      "\n",
      "You: Hello\n",
      "BOT: I am glad! You are talking to me\n",
      "\n",
      "You: what is covid-19 full form\n",
      "BOT: full form of covid-19 \n",
      "coronavirus disease 2019\n",
      "\n",
      "about coronavirus\n",
      "coronavirus disease 2019 (covid-19) is a contagious respiratory and vascular disease caused by severe acute respiratory syndrome coronavirus 2 (sars-cov-2).\n",
      "\n",
      "You: what are common symptoms\n",
      "BOT: some symptoms of covid-19 can be relatively non-specific; the two most common symptoms are fever (88 percent) and dry cough (68 percent).among those who develop symptoms, approximately one in five may become more seriously ill and have difficulty in breathing.\n",
      "\n",
      "You: Are there any preventive measures\n",
      "BOT: preventive measures\n",
      "preventive measures include social distancing, quarantining, ventilation of indoor spaces, covering coughs and sneezes, hand washing, and keeping unwashed hands away from the face.\n",
      "\n",
      "You: Is there any vaccine\n",
      "BOT: vaccine for coronavirus\n",
      "there are currently no proven vaccines or specific treatments for covid-19, though several are in development.\n",
      "\n",
      "You: what are mostly affected countries\n",
      "BOT: the overall number of global coronavirus cases has surpassed the 43 million mark, while the deaths have increased to over1.16 million\n",
      "\n",
      "most affected countires with the highest number of covid-19 cases:\n",
      "usa 8.7 million\n",
      "india 7.9 million\n",
      "brazil 5.4 million\n",
      "russia 1.5 million\n",
      "france 1.2 million\n",
      "\n",
      "You: bye\n",
      "ROBO: Bye! take care..\n"
     ]
    }
   ],
   "source": [
    "flag=True\n",
    "print(\"BOT: My name is BOT. I will answer your queries about COVID-19. \\nIf you want to exit, type Bye!\")\n",
    "while(flag==True):\n",
    "    user_response = input(\"\\nYou: \")\n",
    "    user_response=user_response.lower()\n",
    "    if(user_response!='bye'):\n",
    "        if(user_response=='thanks' or user_response=='thank you' ):\n",
    "            flag=False\n",
    "            print(\"BOT: You are welcome..\")\n",
    "        else:\n",
    "            if(greeting(user_response)!=None):\n",
    "                print(\"BOT: \"+greeting(user_response))\n",
    "            else:\n",
    "                print(\"BOT: \",end=\"\")\n",
    "                print(response(user_response))\n",
    "                sent_tokens.remove(user_response)\n",
    "    else:\n",
    "        flag=False\n",
    "        print(\"ROBO: Bye! take care..\")    "
   ]
  },
  {
   "cell_type": "code",
   "execution_count": null,
   "metadata": {},
   "outputs": [],
   "source": []
  }
 ],
 "metadata": {
  "kernelspec": {
   "display_name": "Python 3",
   "language": "python",
   "name": "python3"
  },
  "language_info": {
   "codemirror_mode": {
    "name": "ipython",
    "version": 3
   },
   "file_extension": ".py",
   "mimetype": "text/x-python",
   "name": "python",
   "nbconvert_exporter": "python",
   "pygments_lexer": "ipython3",
   "version": "3.7.6"
  }
 },
 "nbformat": 4,
 "nbformat_minor": 4
}
